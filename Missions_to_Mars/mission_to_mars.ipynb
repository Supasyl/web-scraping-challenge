{
 "metadata": {
  "language_info": {
   "codemirror_mode": {
    "name": "ipython",
    "version": 3
   },
   "file_extension": ".py",
   "mimetype": "text/x-python",
   "name": "python",
   "nbconvert_exporter": "python",
   "pygments_lexer": "ipython3",
   "version": "3.8.3-final"
  },
  "orig_nbformat": 2,
  "kernelspec": {
   "name": "python3",
   "display_name": "Python 3"
  }
 },
 "nbformat": 4,
 "nbformat_minor": 2,
 "cells": [
  {
   "cell_type": "code",
   "execution_count": 1,
   "metadata": {},
   "outputs": [],
   "source": [
    "# import dependencies\n",
    "from bs4 import BeautifulSoup as bs\n",
    "import requests\n",
    "import pymongo\n",
    "from splinter import Browser\n",
    "import pandas as pd\n",
    "from selenium import webdriver"
   ]
  },
  {
   "source": [
    "# NASA Mars News"
   ],
   "cell_type": "markdown",
   "metadata": {}
  },
  {
   "cell_type": "code",
   "execution_count": 2,
   "metadata": {},
   "outputs": [],
   "source": [
    "# Initialize PyMongo to work with MongoDBs\n",
    "conn = 'mongodb://localhost:27017'\n",
    "client = pymongo.MongoClient(conn)"
   ]
  },
  {
   "cell_type": "code",
   "execution_count": 3,
   "metadata": {},
   "outputs": [],
   "source": [
    "# Define database and collection\n",
    "db = client.Mars_db\n",
    "collection = db.articles\n",
    "images = db.images"
   ]
  },
  {
   "cell_type": "code",
   "execution_count": 4,
   "metadata": {},
   "outputs": [],
   "source": [
    "# open browser window\n",
    "executable_path = {'executable_path': '/usr/local/bin/chromedriver'}\n",
    "browser = Browser('chrome', **executable_path, headless=False)"
   ]
  },
  {
   "cell_type": "code",
   "execution_count": 5,
   "metadata": {},
   "outputs": [],
   "source": [
    "# define website and open in browser window\n",
    "url = 'https://mars.nasa.gov/news/?page=0&per_page=40&order=publish_date+desc%2Ccreated_at+desc&search=&category=19%2C165%2C184%2C204&blank_scope=Latest'\n",
    "browser.visit(url)"
   ]
  },
  {
   "cell_type": "code",
   "execution_count": 6,
   "metadata": {
    "tags": [
     "outputPrepend"
    ]
   },
   "outputs": [
    {
     "output_type": "stream",
     "name": "stdout",
     "text": [
      "ill Reach the Red Planet's Surface</a></div><div class=\"article_teaser_body\">The small craft will seek to prove that powered, controlled flight is possible on another planet. But just getting it onto the surface of Mars will take a whole lot of ingenuity.</div></div>, <div class=\"list_text\"><div class=\"list_date\">June 17, 2020</div><div class=\"content_title\"><a href=\"/news/8695/the-launch-is-approaching-for-nasas-next-mars-rover-perseverance/\" target=\"_self\">The Launch Is Approaching for NASA's Next Mars Rover, Perseverance</a></div><div class=\"article_teaser_body\">The Red Planet's surface has been visited by eight NASA spacecraft. The ninth will be the first that includes a roundtrip ticket in its flight plan. </div></div>, <div class=\"list_text\"><div class=\"list_date\">June 15, 2020</div><div class=\"content_title\"><a href=\"/news/8692/nasa-to-hold-mars-2020-perseverance-rover-launch-briefing/\" target=\"_self\">NASA to Hold Mars 2020 Perseverance Rover Launch Briefing</a></div><div class=\"article_teaser_body\">Learn more about the agency's next Red Planet mission during a live event on June 17.</div></div>, <div class=\"list_text\"><div class=\"list_date\">June 15, 2020</div><div class=\"content_title\"><a href=\"/news/8691/while-stargazing-on-mars-nasas-curiosity-rover-spots-earth-and-venus/\" target=\"_self\">While Stargazing on Mars, NASA's Curiosity Rover Spots Earth and Venus</a></div><div class=\"article_teaser_body\">This new portrait of the Red Planet's neighbors was taken during a time when there's more dust in the air on Mars.</div></div>, <div class=\"list_text\"><div class=\"list_date\">June 12, 2020</div><div class=\"content_title\"><a href=\"/news/8689/nasas-mars-rover-drivers-need-your-help/\" target=\"_self\">NASA's Mars Rover Drivers Need Your Help</a></div><div class=\"article_teaser_body\">Using an online tool to label Martian terrain types, you can train an artificial intelligence algorithm that could improve the way engineers guide the Curiosity rover.</div></div>]\n",
      "[<div class=\"list_text\"><div class=\"list_date\">November 18, 2020</div><div class=\"content_title\"><a href=\"/news/8801/hear-audio-from-nasas-perseverance-as-it-travels-through-deep-space/\" target=\"_self\">Hear Audio From NASA's Perseverance As It Travels Through Deep Space</a></div><div class=\"article_teaser_body\">The first to be rigged with microphones, the agency's latest Mars rover picked up the subtle sounds of its own inner workings during interplanetary flight.</div></div>, <div class=\"list_text\"><div class=\"list_date\">November 13, 2020</div><div class=\"content_title\"><a href=\"/news/8798/mars-is-getting-a-new-robotic-meteorologist/\" target=\"_self\">Mars Is Getting a New Robotic Meteorologist</a></div><div class=\"article_teaser_body\">Sensors on NASA's Perseverance will help prepare for future human exploration by taking weather measurements and studying dust particles.</div></div>, <div class=\"list_text\"><div class=\"list_date\">November 13, 2020</div><div class=\"content_title\"><a href=\"/news/8797/heat-and-dust-help-launch-martian-water-into-space-scientists-find/\" target=\"_self\">Heat and Dust Help Launch Martian Water Into Space, Scientists Find</a></div><div class=\"article_teaser_body\">Scientists using an instrument aboard NASA’s Mars Atmosphere and Volatile EvolutioN, or MAVEN, spacecraft have discovered that water vapor near the surface of the Red Planet is lofted higher into the atmosphere than anyone expected was possible. </div></div>, <div class=\"list_text\"><div class=\"list_date\">November 12, 2020</div><div class=\"content_title\"><a href=\"/news/8796/nasas-curiosity-takes-selfie-with-mary-anning-on-the-red-planet/\" target=\"_self\">NASA's Curiosity Takes Selfie With 'Mary Anning' on the Red Planet</a></div><div class=\"article_teaser_body\">The Mars rover has drilled three samples of rock in this clay-enriched region since arriving in July.</div></div>, <div class=\"list_text\"><div class=\"list_date\">November 10, 2020</div><div class=\"content_title\"><a href=\"/news/8794/independent-review-indicates-nasa-prepared-for-mars-sample-return-campaign/\" target=\"_self\">Independent Review Indicates NASA Prepared for Mars Sample Return Campaign</a></div><div class=\"article_teaser_body\">NASA released an independent review report Tuesday indicating the agency is well positioned for its Mars Sample Return campaign to bring pristine samples from Mars to Earth for scientific study.</div></div>, <div class=\"list_text\"><div class=\"list_date\">November 10, 2020</div><div class=\"content_title\"><a href=\"/news/8792/nasas-perseverance-rover-100-days-out/\" target=\"_self\">NASA's Perseverance Rover 100 Days Out</a></div><div class=\"article_teaser_body\">Mark your calendars: The agency's latest rover has only about 8,640,000 seconds to go before it touches down on the Red Planet, becoming history's next Mars car.</div></div>, <div class=\"list_text\"><div class=\"list_date\">October 27, 2020</div><div class=\"content_title\"><a href=\"/news/8785/nasas-perseverance-rover-is-midway-to-mars/\" target=\"_self\">NASA's Perseverance Rover Is Midway to Mars </a></div><div class=\"article_teaser_body\">Sometimes half measures can be a good thing – especially on a journey this long. The agency's latest rover only has about 146 million miles left to reach its destination.</div></div>, <div class=\"list_text\"><div class=\"list_date\">October 22, 2020</div><div class=\"content_title\"><a href=\"/news/8782/sensors-on-mars-2020-spacecraft-answer-long-distance-call-from-earth/\" target=\"_self\">Sensors on Mars 2020 Spacecraft Answer Long-Distance Call From Earth</a></div><div class=\"article_teaser_body\">Instruments tailored to collect data during the descent of NASA's next rover through the Red Planet's atmosphere have been checked in flight.</div></div>, <div class=\"list_text\"><div class=\"list_date\">October 19, 2020</div><div class=\"content_title\"><a href=\"/news/8778/nasas-perseverance-rover-bringing-3d-printed-metal-parts-to-mars/\" target=\"_self\">NASA's Perseverance Rover Bringing 3D-Printed Metal Parts to Mars</a></div><div class=\"article_teaser_body\">For hobbyists and makers, 3D printing expands creative possibilities; for specialized engineers, it's also key to next-generation spacecraft design.</div></div>, <div class=\"list_text\"><div class=\"list_date\">October 16, 2020</div><div class=\"content_title\"><a href=\"/news/8776/nasa-insights-mole-is-out-of-sight/\" target=\"_self\">NASA InSight's 'Mole' Is Out of Sight</a></div><div class=\"article_teaser_body\">Now that the heat probe is just below the Martian surface, InSight's arm will scoop some additional soil on top to help it keep digging so it can take Mars' temperature.</div></div>, <div class=\"list_text\"><div class=\"list_date\">October  8, 2020</div><div class=\"content_title\"><a href=\"/news/8770/nasas-perseverance-rover-will-peer-beneath-mars-surface/\" target=\"_self\">NASA's Perseverance Rover Will Peer Beneath Mars' Surface </a></div><div class=\"article_teaser_body\">The agency's newest rover will use the first ground-penetrating radar instrument on the Martian surface to help search for signs of past microbial life. </div></div>, <div class=\"list_text\"><div class=\"list_date\">October  1, 2020</div><div class=\"content_title\"><a href=\"/news/8765/ai-is-helping-scientists-discover-fresh-craters-on-mars/\" target=\"_self\">AI Is Helping Scientists Discover Fresh Craters on Mars</a></div><div class=\"article_teaser_body\">It's the first time machine learning has been used to find previously unknown craters on the Red Planet.</div></div>, <div class=\"list_text\"><div class=\"list_date\">September 28, 2020</div><div class=\"content_title\"><a href=\"/news/8762/nasas-new-mars-rover-is-ready-for-space-lasers/\" target=\"_self\">NASA's New Mars Rover Is Ready for Space Lasers</a></div><div class=\"article_teaser_body\">Perseverance is one of a few Mars spacecraft carrying laser retroreflectors. The devices could provide new science and safer Mars landings in the future.</div></div>, <div class=\"list_text\"><div class=\"list_date\">September 22, 2020</div><div class=\"content_title\"><a href=\"/news/8759/nasas-new-mars-rover-will-use-x-rays-to-hunt-fossils/\" target=\"_self\">NASA's New Mars Rover Will Use X-Rays to Hunt Fossils</a></div><div class=\"article_teaser_body\">PIXL, an instrument on the end of the Perseverance rover's arm, will search for chemical fingerprints left by ancient microbes.</div></div>, <div class=\"list_text\"><div class=\"list_date\">September 16, 2020</div><div class=\"content_title\"><a href=\"/news/8756/my-culture-my-voice/\" target=\"_self\">My Culture, My Voice</a></div><div class=\"article_teaser_body\">In honor of Hispanic Heritage Month, Christina Hernandez, an instrument engineer on the Mars 2020 mission, talks about her childhood and journey to NASA.</div></div>, <div class=\"list_text\"><div class=\"list_date\">September  4, 2020</div><div class=\"content_title\"><a href=\"/news/8749/nasa-readies-perseverance-mars-rovers-earthly-twin/\" target=\"_self\">NASA Readies Perseverance Mars Rover's Earthly Twin </a></div><div class=\"article_teaser_body\">Did you know NASA's next Mars rover has a nearly identical sibling on Earth for testing? Even better, it's about to roll for the first time through a replica Martian landscape.</div></div>, <div class=\"list_text\"><div class=\"list_date\">August 24, 2020</div><div class=\"content_title\"><a href=\"/news/8744/nasa-engineers-checking-insights-weather-sensors/\" target=\"_self\">NASA Engineers Checking InSight's Weather Sensors</a></div><div class=\"article_teaser_body\">An electronics issue is suspected to be preventing the sensors from sharing their data about Mars weather with the spacecraft.</div></div>, <div class=\"list_text\"><div class=\"list_date\">August 21, 2020</div><div class=\"content_title\"><a href=\"/news/8742/follow-nasas-perseverance-rover-in-real-time-on-its-way-to-mars/\" target=\"_self\">Follow NASA's Perseverance Rover in Real Time on Its Way to Mars</a></div><div class=\"article_teaser_body\">A crisply rendered web application can show you where the agency's Mars 2020 mission is right now as it makes its way to the Red Planet for a Feb. 18, 2021, landing.</div></div>, <div class=\"list_text\"><div class=\"list_date\">August 14, 2020</div><div class=\"content_title\"><a href=\"/news/8737/nasa-establishes-board-to-initially-review-mars-sample-return-plans/\" target=\"_self\">NASA Establishes Board to Initially Review Mars Sample Return Plans</a></div><div class=\"article_teaser_body\">The board will assist with analysis of current plans and goals for one of the most difficult missions humanity has ever undertaken.</div></div>, <div class=\"list_text\"><div class=\"list_date\">August 13, 2020</div><div class=\"content_title\"><a href=\"/news/8736/nasas-ingenuity-mars-helicopter-recharges-its-batteries-in-flight/\" target=\"_self\">NASA's Ingenuity Mars Helicopter Recharges Its Batteries in Flight</a></div><div class=\"article_teaser_body\">Headed to the Red Planet with the Perseverance rover, the pioneering helicopter is powered up for the first time in interplanetary space as part of a systems check.</div></div>, <div class=\"list_text\"><div class=\"list_date\">August 12, 2020</div><div class=\"content_title\"><a href=\"/news/8735/celebrate-mars-reconnaissance-orbiters-views-from-above/\" target=\"_self\">Celebrate Mars Reconnaissance Orbiter's Views From Above</a></div><div class=\"article_teaser_body\">Marking its 15th anniversary since launch, one of the oldest spacecraft at the Red Planet has provided glimpses of dust devils, avalanches, and more.</div></div>, <div class=\"list_text\"><div class=\"list_date\">August  6, 2020</div><div class=\"content_title\"><a href=\"/news/8731/nasas-maven-observes-martian-night-sky-pulsing-in-ultraviolet-light/\" target=\"_self\">NASA's MAVEN Observes Martian Night Sky Pulsing in Ultraviolet Light</a></div><div class=\"article_teaser_body\">Vast areas of the Martian night sky pulse in ultraviolet light, according to images from NASA’s MAVEN spacecraft. The results are being used to illuminate complex circulation patterns in the Martian atmosphere.</div></div>, <div class=\"list_text\"><div class=\"list_date\">August  3, 2020</div><div class=\"content_title\"><a href=\"/news/8726/8-martian-postcards-to-celebrate-curiositys-landing-anniversary/\" target=\"_self\">8 Martian Postcards to Celebrate Curiosity's Landing Anniversary</a></div><div class=\"article_teaser_body\">The NASA rover touched down eight years ago, on Aug. 5, 2012, and will soon be joined by a second rover, Perseverance.</div></div>, <div class=\"list_text\"><div class=\"list_date\">July 30, 2020</div><div class=\"content_title\"><a href=\"/news/8724/nasa-ula-launch-mars-2020-perseverance-rover-mission-to-red-planet/\" target=\"_self\">NASA, ULA Launch Mars 2020 Perseverance Rover Mission to Red Planet</a></div><div class=\"article_teaser_body\">The agency's Mars 2020 mission is on its way. It will land at Jezero Crater in about seven months, on Feb. 18, 2021. </div></div>, <div class=\"list_text\"><div class=\"list_date\">July 28, 2020</div><div class=\"content_title\"><a href=\"/news/8723/nasas-perseverance-rover-will-carry-first-spacesuit-materials-to-mars/\" target=\"_self\">NASA's Perseverance Rover Will Carry First Spacesuit Materials to Mars</a></div><div class=\"article_teaser_body\">In a Q&amp;A, spacesuit designer Amy Ross explains how five samples, including a piece of helmet visor, will be tested aboard the rover, which is targeting a July 30 launch. </div></div>, <div class=\"list_text\"><div class=\"list_date\">July 27, 2020</div><div class=\"content_title\"><a href=\"/news/8721/a-new-video-captures-the-science-of-nasas-perseverance-mars-rover/\" target=\"_self\">A New Video Captures the Science of NASA's Perseverance Mars Rover</a></div><div class=\"article_teaser_body\">With a targeted launch date of July 30, the next robotic scientist NASA is sending to the to the Red Planet has big ambitions.</div></div>, <div class=\"list_text\"><div class=\"list_date\">July 23, 2020</div><div class=\"content_title\"><a href=\"/news/8719/nasa-invites-public-to-share-excitement-of-mars-2020-perseverance-rover-launch/\" target=\"_self\">NASA Invites Public to Share Excitement of Mars 2020 Perseverance Rover Launch</a></div><div class=\"article_teaser_body\">There are lots of ways to participate in the historic event, which is targeted for July 30.</div></div>, <div class=\"list_text\"><div class=\"list_date\">July 22, 2020</div><div class=\"content_title\"><a href=\"/news/8718/nasas-mars-perseverance-rover-passes-flight-readiness-review/\" target=\"_self\">NASA's Mars Perseverance Rover Passes Flight Readiness Review</a></div><div class=\"article_teaser_body\">​The agency's Mars 2020 mission has one more big prelaunch review – the Launch Readiness Review, on July 27.</div></div>, <div class=\"list_text\"><div class=\"list_date\">July 17, 2020</div><div class=\"content_title\"><a href=\"/news/8716/nasa-to-broadcast-mars-2020-perseverance-launch-prelaunch-activities/\" target=\"_self\">NASA to Broadcast Mars 2020 Perseverance Launch, Prelaunch Activities</a></div><div class=\"article_teaser_body\">Starting July 27, news activities will cover everything from mission engineering and science to returning samples from Mars to, of course, the launch itself.</div></div>, <div class=\"list_text\"><div class=\"list_date\">July 14, 2020</div><div class=\"content_title\"><a href=\"/news/8712/6-things-to-know-about-nasas-ingenuity-mars-helicopter/\" target=\"_self\">6 Things to Know About NASA's Ingenuity Mars Helicopter</a></div><div class=\"article_teaser_body\">The first helicopter attempting to fly on another planet is a marvel of engineering. Get up to speed with these key facts about its plans.</div></div>, <div class=\"list_text\"><div class=\"list_date\">July 10, 2020</div><div class=\"content_title\"><a href=\"/news/8710/join-nasa-for-the-launch-of-the-mars-2020-perseverance-rover/\" target=\"_self\">Join NASA for the Launch of the Mars 2020 Perseverance Rover</a></div><div class=\"article_teaser_body\">No matter where you live, choose from a menu of activities to join NASA as we \"Countdown to Mars\" and launch the Perseverance rover to the Red Planet.</div></div>, <div class=\"list_text\"><div class=\"list_date\">July  9, 2020</div><div class=\"content_title\"><a href=\"/news/8709/nasas-perseverance-rover-attached-to-atlas-v-rocket/\" target=\"_self\">NASA's Perseverance Rover Attached to Atlas V Rocket</a></div><div class=\"article_teaser_body\">Ready for its launch later in the month, the Mars-bound rover will touch terra firma no more.</div></div>, <div class=\"list_text\"><div class=\"list_date\">July  8, 2020</div><div class=\"content_title\"><a href=\"/news/8707/7-things-to-know-about-the-mars-2020-perseverance-rover-mission/\" target=\"_self\">7 Things to Know About the Mars 2020 Perseverance Rover Mission</a></div><div class=\"article_teaser_body\">NASA's next rover to the Red Planet is slated to launch no earlier than July 30. These highlights will get you up to speed on the ambitious mission.</div></div>, <div class=\"list_text\"><div class=\"list_date\">July  7, 2020</div><div class=\"content_title\"><a href=\"/news/8705/nasas-insight-flexes-its-arm-while-its-mole-hits-pause/\" target=\"_self\">NASA's InSight Flexes Its Arm While Its 'Mole' Hits Pause</a></div><div class=\"article_teaser_body\">Now that the lander's robotic arm has helped the mole get underground, it will resume science activities that have been on hold.</div></div>, <div class=\"list_text\"><div class=\"list_date\">July  6, 2020</div><div class=\"content_title\"><a href=\"/news/8704/curiosity-mars-rovers-summer-road-trip-has-begun/\" target=\"_self\">Curiosity Mars Rover's Summer Road Trip Has Begun</a></div><div class=\"article_teaser_body\">After more than a year in the \"clay-bearing unit,\" Curiosity is making a mile-long journey around some deep sand so that it can explore higher up Mount Sharp.</div></div>, <div class=\"list_text\"><div class=\"list_date\">June 23, 2020</div><div class=\"content_title\"><a href=\"/news/8699/how-nasas-mars-helicopter-will-reach-the-red-planets-surface/\" target=\"_self\">How NASA's Mars Helicopter Will Reach the Red Planet's Surface</a></div><div class=\"article_teaser_body\">The small craft will seek to prove that powered, controlled flight is possible on another planet. But just getting it onto the surface of Mars will take a whole lot of ingenuity.</div></div>, <div class=\"list_text\"><div class=\"list_date\">June 17, 2020</div><div class=\"content_title\"><a href=\"/news/8695/the-launch-is-approaching-for-nasas-next-mars-rover-perseverance/\" target=\"_self\">The Launch Is Approaching for NASA's Next Mars Rover, Perseverance</a></div><div class=\"article_teaser_body\">The Red Planet's surface has been visited by eight NASA spacecraft. The ninth will be the first that includes a roundtrip ticket in its flight plan. </div></div>, <div class=\"list_text\"><div class=\"list_date\">June 15, 2020</div><div class=\"content_title\"><a href=\"/news/8692/nasa-to-hold-mars-2020-perseverance-rover-launch-briefing/\" target=\"_self\">NASA to Hold Mars 2020 Perseverance Rover Launch Briefing</a></div><div class=\"article_teaser_body\">Learn more about the agency's next Red Planet mission during a live event on June 17.</div></div>, <div class=\"list_text\"><div class=\"list_date\">June 15, 2020</div><div class=\"content_title\"><a href=\"/news/8691/while-stargazing-on-mars-nasas-curiosity-rover-spots-earth-and-venus/\" target=\"_self\">While Stargazing on Mars, NASA's Curiosity Rover Spots Earth and Venus</a></div><div class=\"article_teaser_body\">This new portrait of the Red Planet's neighbors was taken during a time when there's more dust in the air on Mars.</div></div>, <div class=\"list_text\"><div class=\"list_date\">June 12, 2020</div><div class=\"content_title\"><a href=\"/news/8689/nasas-mars-rover-drivers-need-your-help/\" target=\"_self\">NASA's Mars Rover Drivers Need Your Help</a></div><div class=\"article_teaser_body\">Using an online tool to label Martian terrain types, you can train an artificial intelligence algorithm that could improve the way engineers guide the Curiosity rover.</div></div>]\n"
     ]
    }
   ],
   "source": [
    "# Retrieve the parent divs for all articles\n",
    "for x in range(50):\n",
    "    html = browser.html\n",
    "    soup = bs(html, 'html.parser')\n",
    "\n",
    "    articles = soup.find_all(class_='list_text')\n",
    "    print(articles)"
   ]
  },
  {
   "cell_type": "code",
   "execution_count": null,
   "metadata": {},
   "outputs": [],
   "source": [
    "# Close the browser after scraping\n",
    "browser.quit()"
   ]
  },
  {
   "cell_type": "code",
   "execution_count": 7,
   "metadata": {},
   "outputs": [
    {
     "output_type": "stream",
     "name": "stdout",
     "text": [
      "------------\nHear Audio From NASA's Perseverance As It Travels Through Deep Space\nThe first to be rigged with microphones, the agency's latest Mars rover picked up the subtle sounds of its own inner workings during interplanetary flight.\n------------\nMars Is Getting a New Robotic Meteorologist\nSensors on NASA's Perseverance will help prepare for future human exploration by taking weather measurements and studying dust particles.\n------------\nHeat and Dust Help Launch Martian Water Into Space, Scientists Find\nScientists using an instrument aboard NASA’s Mars Atmosphere and Volatile EvolutioN, or MAVEN, spacecraft have discovered that water vapor near the surface of the Red Planet is lofted higher into the atmosphere than anyone expected was possible. \n------------\nNASA's Curiosity Takes Selfie With 'Mary Anning' on the Red Planet\nThe Mars rover has drilled three samples of rock in this clay-enriched region since arriving in July.\n------------\nIndependent Review Indicates NASA Prepared for Mars Sample Return Campaign\nNASA released an independent review report Tuesday indicating the agency is well positioned for its Mars Sample Return campaign to bring pristine samples from Mars to Earth for scientific study.\n------------\nNASA's Perseverance Rover 100 Days Out\nMark your calendars: The agency's latest rover has only about 8,640,000 seconds to go before it touches down on the Red Planet, becoming history's next Mars car.\n------------\nNASA's Perseverance Rover Is Midway to Mars \nSometimes half measures can be a good thing – especially on a journey this long. The agency's latest rover only has about 146 million miles left to reach its destination.\n------------\nSensors on Mars 2020 Spacecraft Answer Long-Distance Call From Earth\nInstruments tailored to collect data during the descent of NASA's next rover through the Red Planet's atmosphere have been checked in flight.\n------------\nNASA's Perseverance Rover Bringing 3D-Printed Metal Parts to Mars\nFor hobbyists and makers, 3D printing expands creative possibilities; for specialized engineers, it's also key to next-generation spacecraft design.\n------------\nNASA InSight's 'Mole' Is Out of Sight\nNow that the heat probe is just below the Martian surface, InSight's arm will scoop some additional soil on top to help it keep digging so it can take Mars' temperature.\n------------\nNASA's Perseverance Rover Will Peer Beneath Mars' Surface \nThe agency's newest rover will use the first ground-penetrating radar instrument on the Martian surface to help search for signs of past microbial life. \n------------\nAI Is Helping Scientists Discover Fresh Craters on Mars\nIt's the first time machine learning has been used to find previously unknown craters on the Red Planet.\n------------\nNASA's New Mars Rover Is Ready for Space Lasers\nPerseverance is one of a few Mars spacecraft carrying laser retroreflectors. The devices could provide new science and safer Mars landings in the future.\n------------\nNASA's New Mars Rover Will Use X-Rays to Hunt Fossils\nPIXL, an instrument on the end of the Perseverance rover's arm, will search for chemical fingerprints left by ancient microbes.\n------------\nMy Culture, My Voice\nIn honor of Hispanic Heritage Month, Christina Hernandez, an instrument engineer on the Mars 2020 mission, talks about her childhood and journey to NASA.\n------------\nNASA Readies Perseverance Mars Rover's Earthly Twin \nDid you know NASA's next Mars rover has a nearly identical sibling on Earth for testing? Even better, it's about to roll for the first time through a replica Martian landscape.\n------------\nNASA Engineers Checking InSight's Weather Sensors\nAn electronics issue is suspected to be preventing the sensors from sharing their data about Mars weather with the spacecraft.\n------------\nFollow NASA's Perseverance Rover in Real Time on Its Way to Mars\nA crisply rendered web application can show you where the agency's Mars 2020 mission is right now as it makes its way to the Red Planet for a Feb. 18, 2021, landing.\n------------\nNASA Establishes Board to Initially Review Mars Sample Return Plans\nThe board will assist with analysis of current plans and goals for one of the most difficult missions humanity has ever undertaken.\n------------\nNASA's Ingenuity Mars Helicopter Recharges Its Batteries in Flight\nHeaded to the Red Planet with the Perseverance rover, the pioneering helicopter is powered up for the first time in interplanetary space as part of a systems check.\n------------\nCelebrate Mars Reconnaissance Orbiter's Views From Above\nMarking its 15th anniversary since launch, one of the oldest spacecraft at the Red Planet has provided glimpses of dust devils, avalanches, and more.\n------------\nNASA's MAVEN Observes Martian Night Sky Pulsing in Ultraviolet Light\nVast areas of the Martian night sky pulse in ultraviolet light, according to images from NASA’s MAVEN spacecraft. The results are being used to illuminate complex circulation patterns in the Martian atmosphere.\n------------\n8 Martian Postcards to Celebrate Curiosity's Landing Anniversary\nThe NASA rover touched down eight years ago, on Aug. 5, 2012, and will soon be joined by a second rover, Perseverance.\n------------\nNASA, ULA Launch Mars 2020 Perseverance Rover Mission to Red Planet\nThe agency's Mars 2020 mission is on its way. It will land at Jezero Crater in about seven months, on Feb. 18, 2021. \n------------\nNASA's Perseverance Rover Will Carry First Spacesuit Materials to Mars\nIn a Q&A, spacesuit designer Amy Ross explains how five samples, including a piece of helmet visor, will be tested aboard the rover, which is targeting a July 30 launch. \n------------\nA New Video Captures the Science of NASA's Perseverance Mars Rover\nWith a targeted launch date of July 30, the next robotic scientist NASA is sending to the to the Red Planet has big ambitions.\n------------\nNASA Invites Public to Share Excitement of Mars 2020 Perseverance Rover Launch\nThere are lots of ways to participate in the historic event, which is targeted for July 30.\n------------\nNASA's Mars Perseverance Rover Passes Flight Readiness Review\n​The agency's Mars 2020 mission has one more big prelaunch review – the Launch Readiness Review, on July 27.\n------------\nNASA to Broadcast Mars 2020 Perseverance Launch, Prelaunch Activities\nStarting July 27, news activities will cover everything from mission engineering and science to returning samples from Mars to, of course, the launch itself.\n------------\n6 Things to Know About NASA's Ingenuity Mars Helicopter\nThe first helicopter attempting to fly on another planet is a marvel of engineering. Get up to speed with these key facts about its plans.\n------------\nJoin NASA for the Launch of the Mars 2020 Perseverance Rover\nNo matter where you live, choose from a menu of activities to join NASA as we \"Countdown to Mars\" and launch the Perseverance rover to the Red Planet.\n------------\nNASA's Perseverance Rover Attached to Atlas V Rocket\nReady for its launch later in the month, the Mars-bound rover will touch terra firma no more.\n------------\n7 Things to Know About the Mars 2020 Perseverance Rover Mission\nNASA's next rover to the Red Planet is slated to launch no earlier than July 30. These highlights will get you up to speed on the ambitious mission.\n------------\nNASA's InSight Flexes Its Arm While Its 'Mole' Hits Pause\nNow that the lander's robotic arm has helped the mole get underground, it will resume science activities that have been on hold.\n------------\nCuriosity Mars Rover's Summer Road Trip Has Begun\nAfter more than a year in the \"clay-bearing unit,\" Curiosity is making a mile-long journey around some deep sand so that it can explore higher up Mount Sharp.\n------------\nHow NASA's Mars Helicopter Will Reach the Red Planet's Surface\nThe small craft will seek to prove that powered, controlled flight is possible on another planet. But just getting it onto the surface of Mars will take a whole lot of ingenuity.\n------------\nThe Launch Is Approaching for NASA's Next Mars Rover, Perseverance\nThe Red Planet's surface has been visited by eight NASA spacecraft. The ninth will be the first that includes a roundtrip ticket in its flight plan. \n------------\nNASA to Hold Mars 2020 Perseverance Rover Launch Briefing\nLearn more about the agency's next Red Planet mission during a live event on June 17.\n------------\nWhile Stargazing on Mars, NASA's Curiosity Rover Spots Earth and Venus\nThis new portrait of the Red Planet's neighbors was taken during a time when there's more dust in the air on Mars.\n------------\nNASA's Mars Rover Drivers Need Your Help\nUsing an online tool to label Martian terrain types, you can train an artificial intelligence algorithm that could improve the way engineers guide the Curiosity rover.\n"
     ]
    }
   ],
   "source": [
    "# loop over results to get article data\n",
    "for article in articles:\n",
    "    # scrape the article title\n",
    "    news_title = article.find(class_='content_title').text\n",
    "    # scrape the article paragraph\n",
    "    news_p = article.find(class_='article_teaser_body').text\n",
    "    # print article data\n",
    "    print('------------')\n",
    "    print(news_title)\n",
    "    print(news_p)\n",
    "    #dictionary to be inserted into MongoDB for later retrieval\n",
    "    post = {\n",
    "        'Title': news_title,\n",
    "        'Paragraph': news_p\n",
    "    }\n",
    "    # Insert dictionary into MongoDB as a document\n",
    "    collection.insert_one(post)"
   ]
  },
  {
   "cell_type": "code",
   "execution_count": 45,
   "metadata": {},
   "outputs": [
    {
     "output_type": "stream",
     "name": "stdout",
     "text": [
      "{'_id': ObjectId('5fb8c5ed8f43340cd298dcd1'), 'Title': \"Hear Audio From NASA's Perseverance As It Travels Through Deep Space\", 'Paragraph': \"The first to be rigged with microphones, the agency's latest Mars rover picked up the subtle sounds of its own inner workings during interplanetary flight.\"}\n{'_id': ObjectId('5fb8c5ed8f43340cd298dcd2'), 'Title': 'Mars Is Getting a New Robotic Meteorologist', 'Paragraph': \"Sensors on NASA's Perseverance will help prepare for future human exploration by taking weather measurements and studying dust particles.\"}\n{'_id': ObjectId('5fb8c5ed8f43340cd298dcd3'), 'Title': 'Heat and Dust Help Launch Martian Water Into Space, Scientists Find', 'Paragraph': 'Scientists using an instrument aboard NASA’s Mars Atmosphere and Volatile EvolutioN, or MAVEN, spacecraft have discovered that water vapor near the surface of the Red Planet is lofted higher into the atmosphere than anyone expected was possible. '}\n{'_id': ObjectId('5fb8c5ed8f43340cd298dcd4'), 'Title': \"NASA's Curiosity Takes Selfie With 'Mary Anning' on the Red Planet\", 'Paragraph': 'The Mars rover has drilled three samples of rock in this clay-enriched region since arriving in July.'}\n{'_id': ObjectId('5fb8c5ed8f43340cd298dcd5'), 'Title': 'Independent Review Indicates NASA Prepared for Mars Sample Return Campaign', 'Paragraph': 'NASA released an independent review report Tuesday indicating the agency is well positioned for its Mars Sample Return campaign to bring pristine samples from Mars to Earth for scientific study.'}\n{'_id': ObjectId('5fb8c5ed8f43340cd298dcd6'), 'Title': \"NASA's Perseverance Rover 100 Days Out\", 'Paragraph': \"Mark your calendars: The agency's latest rover has only about 8,640,000 seconds to go before it touches down on the Red Planet, becoming history's next Mars car.\"}\n{'_id': ObjectId('5fb8c5ed8f43340cd298dcd7'), 'Title': \"NASA's Perseverance Rover Is Midway to Mars \", 'Paragraph': \"Sometimes half measures can be a good thing – especially on a journey this long. The agency's latest rover only has about 146 million miles left to reach its destination.\"}\n{'_id': ObjectId('5fb8c5ed8f43340cd298dcd8'), 'Title': 'Sensors on Mars 2020 Spacecraft Answer Long-Distance Call From Earth', 'Paragraph': \"Instruments tailored to collect data during the descent of NASA's next rover through the Red Planet's atmosphere have been checked in flight.\"}\n{'_id': ObjectId('5fb8c5ed8f43340cd298dcd9'), 'Title': \"NASA's Perseverance Rover Bringing 3D-Printed Metal Parts to Mars\", 'Paragraph': \"For hobbyists and makers, 3D printing expands creative possibilities; for specialized engineers, it's also key to next-generation spacecraft design.\"}\n{'_id': ObjectId('5fb8c5ed8f43340cd298dcda'), 'Title': \"NASA InSight's 'Mole' Is Out of Sight\", 'Paragraph': \"Now that the heat probe is just below the Martian surface, InSight's arm will scoop some additional soil on top to help it keep digging so it can take Mars' temperature.\"}\n{'_id': ObjectId('5fb8c5ed8f43340cd298dcdb'), 'Title': \"NASA's Perseverance Rover Will Peer Beneath Mars' Surface \", 'Paragraph': \"The agency's newest rover will use the first ground-penetrating radar instrument on the Martian surface to help search for signs of past microbial life. \"}\n{'_id': ObjectId('5fb8c5ed8f43340cd298dcdc'), 'Title': 'AI Is Helping Scientists Discover Fresh Craters on Mars', 'Paragraph': \"It's the first time machine learning has been used to find previously unknown craters on the Red Planet.\"}\n{'_id': ObjectId('5fb8c5ed8f43340cd298dcdd'), 'Title': \"NASA's New Mars Rover Is Ready for Space Lasers\", 'Paragraph': 'Perseverance is one of a few Mars spacecraft carrying laser retroreflectors. The devices could provide new science and safer Mars landings in the future.'}\n{'_id': ObjectId('5fb8c5ed8f43340cd298dcde'), 'Title': \"NASA's New Mars Rover Will Use X-Rays to Hunt Fossils\", 'Paragraph': \"PIXL, an instrument on the end of the Perseverance rover's arm, will search for chemical fingerprints left by ancient microbes.\"}\n{'_id': ObjectId('5fb8c5ed8f43340cd298dcdf'), 'Title': 'My Culture, My Voice', 'Paragraph': 'In honor of Hispanic Heritage Month, Christina Hernandez, an instrument engineer on the Mars 2020 mission, talks about her childhood and journey to NASA.'}\n{'_id': ObjectId('5fb8c5ed8f43340cd298dce0'), 'Title': \"NASA Readies Perseverance Mars Rover's Earthly Twin \", 'Paragraph': \"Did you know NASA's next Mars rover has a nearly identical sibling on Earth for testing? Even better, it's about to roll for the first time through a replica Martian landscape.\"}\n{'_id': ObjectId('5fb8c5ed8f43340cd298dce1'), 'Title': \"NASA Engineers Checking InSight's Weather Sensors\", 'Paragraph': 'An electronics issue is suspected to be preventing the sensors from sharing their data about Mars weather with the spacecraft.'}\n{'_id': ObjectId('5fb8c5ed8f43340cd298dce2'), 'Title': \"Follow NASA's Perseverance Rover in Real Time on Its Way to Mars\", 'Paragraph': \"A crisply rendered web application can show you where the agency's Mars 2020 mission is right now as it makes its way to the Red Planet for a Feb. 18, 2021, landing.\"}\n{'_id': ObjectId('5fb8c5ed8f43340cd298dce3'), 'Title': 'NASA Establishes Board to Initially Review Mars Sample Return Plans', 'Paragraph': 'The board will assist with analysis of current plans and goals for one of the most difficult missions humanity has ever undertaken.'}\n{'_id': ObjectId('5fb8c5ed8f43340cd298dce4'), 'Title': \"NASA's Ingenuity Mars Helicopter Recharges Its Batteries in Flight\", 'Paragraph': 'Headed to the Red Planet with the Perseverance rover, the pioneering helicopter is powered up for the first time in interplanetary space as part of a systems check.'}\n{'_id': ObjectId('5fb8c5ed8f43340cd298dce5'), 'Title': \"Celebrate Mars Reconnaissance Orbiter's Views From Above\", 'Paragraph': 'Marking its 15th anniversary since launch, one of the oldest spacecraft at the Red Planet has provided glimpses of dust devils, avalanches, and more.'}\n{'_id': ObjectId('5fb8c5ed8f43340cd298dce6'), 'Title': \"NASA's MAVEN Observes Martian Night Sky Pulsing in Ultraviolet Light\", 'Paragraph': 'Vast areas of the Martian night sky pulse in ultraviolet light, according to images from NASA’s MAVEN spacecraft. The results are being used to illuminate complex circulation patterns in the Martian atmosphere.'}\n{'_id': ObjectId('5fb8c5ed8f43340cd298dce7'), 'Title': \"8 Martian Postcards to Celebrate Curiosity's Landing Anniversary\", 'Paragraph': 'The NASA rover touched down eight years ago, on Aug. 5, 2012, and will soon be joined by a second rover, Perseverance.'}\n{'_id': ObjectId('5fb8c5ed8f43340cd298dce8'), 'Title': 'NASA, ULA Launch Mars 2020 Perseverance Rover Mission to Red Planet', 'Paragraph': \"The agency's Mars 2020 mission is on its way. It will land at Jezero Crater in about seven months, on Feb. 18, 2021. \"}\n{'_id': ObjectId('5fb8c5ed8f43340cd298dce9'), 'Title': \"NASA's Perseverance Rover Will Carry First Spacesuit Materials to Mars\", 'Paragraph': 'In a Q&A, spacesuit designer Amy Ross explains how five samples, including a piece of helmet visor, will be tested aboard the rover, which is targeting a July 30 launch. '}\n{'_id': ObjectId('5fb8c5ed8f43340cd298dcea'), 'Title': \"A New Video Captures the Science of NASA's Perseverance Mars Rover\", 'Paragraph': 'With a targeted launch date of July 30, the next robotic scientist NASA is sending to the to the Red Planet has big ambitions.'}\n{'_id': ObjectId('5fb8c5ed8f43340cd298dceb'), 'Title': 'NASA Invites Public to Share Excitement of Mars 2020 Perseverance Rover Launch', 'Paragraph': 'There are lots of ways to participate in the historic event, which is targeted for July 30.'}\n{'_id': ObjectId('5fb8c5ed8f43340cd298dcec'), 'Title': \"NASA's Mars Perseverance Rover Passes Flight Readiness Review\", 'Paragraph': \"\\u200bThe agency's Mars 2020 mission has one more big prelaunch review – the Launch Readiness Review, on July 27.\"}\n{'_id': ObjectId('5fb8c5ed8f43340cd298dced'), 'Title': 'NASA to Broadcast Mars 2020 Perseverance Launch, Prelaunch Activities', 'Paragraph': 'Starting July 27, news activities will cover everything from mission engineering and science to returning samples from Mars to, of course, the launch itself.'}\n{'_id': ObjectId('5fb8c5ed8f43340cd298dcee'), 'Title': \"6 Things to Know About NASA's Ingenuity Mars Helicopter\", 'Paragraph': 'The first helicopter attempting to fly on another planet is a marvel of engineering. Get up to speed with these key facts about its plans.'}\n{'_id': ObjectId('5fb8c5ed8f43340cd298dcef'), 'Title': 'Join NASA for the Launch of the Mars 2020 Perseverance Rover', 'Paragraph': 'No matter where you live, choose from a menu of activities to join NASA as we \"Countdown to Mars\" and launch the Perseverance rover to the Red Planet.'}\n{'_id': ObjectId('5fb8c5ed8f43340cd298dcf0'), 'Title': \"NASA's Perseverance Rover Attached to Atlas V Rocket\", 'Paragraph': 'Ready for its launch later in the month, the Mars-bound rover will touch terra firma no more.'}\n{'_id': ObjectId('5fb8c5ed8f43340cd298dcf1'), 'Title': '7 Things to Know About the Mars 2020 Perseverance Rover Mission', 'Paragraph': \"NASA's next rover to the Red Planet is slated to launch no earlier than July 30. These highlights will get you up to speed on the ambitious mission.\"}\n{'_id': ObjectId('5fb8c5ed8f43340cd298dcf2'), 'Title': \"NASA's InSight Flexes Its Arm While Its 'Mole' Hits Pause\", 'Paragraph': \"Now that the lander's robotic arm has helped the mole get underground, it will resume science activities that have been on hold.\"}\n{'_id': ObjectId('5fb8c5ed8f43340cd298dcf3'), 'Title': \"Curiosity Mars Rover's Summer Road Trip Has Begun\", 'Paragraph': 'After more than a year in the \"clay-bearing unit,\" Curiosity is making a mile-long journey around some deep sand so that it can explore higher up Mount Sharp.'}\n{'_id': ObjectId('5fb8c5ed8f43340cd298dcf4'), 'Title': \"How NASA's Mars Helicopter Will Reach the Red Planet's Surface\", 'Paragraph': 'The small craft will seek to prove that powered, controlled flight is possible on another planet. But just getting it onto the surface of Mars will take a whole lot of ingenuity.'}\n{'_id': ObjectId('5fb8c5ed8f43340cd298dcf5'), 'Title': \"The Launch Is Approaching for NASA's Next Mars Rover, Perseverance\", 'Paragraph': \"The Red Planet's surface has been visited by eight NASA spacecraft. The ninth will be the first that includes a roundtrip ticket in its flight plan. \"}\n{'_id': ObjectId('5fb8c5ed8f43340cd298dcf6'), 'Title': 'NASA to Hold Mars 2020 Perseverance Rover Launch Briefing', 'Paragraph': \"Learn more about the agency's next Red Planet mission during a live event on June 17.\"}\n{'_id': ObjectId('5fb8c5ed8f43340cd298dcf7'), 'Title': \"While Stargazing on Mars, NASA's Curiosity Rover Spots Earth and Venus\", 'Paragraph': \"This new portrait of the Red Planet's neighbors was taken during a time when there's more dust in the air on Mars.\"}\n{'_id': ObjectId('5fb8c5ed8f43340cd298dcf8'), 'Title': \"NASA's Mars Rover Drivers Need Your Help\", 'Paragraph': 'Using an online tool to label Martian terrain types, you can train an artificial intelligence algorithm that could improve the way engineers guide the Curiosity rover.'}\n"
     ]
    }
   ],
   "source": [
    "# Display items in MongoDB collection\n",
    "list = db.articles.find()\n",
    "\n",
    "for listing in list:\n",
    "    print(listing)"
   ]
  },
  {
   "source": [
    "# JPL Mars Space Images - Feature Image"
   ],
   "cell_type": "markdown",
   "metadata": {}
  },
  {
   "cell_type": "code",
   "execution_count": 108,
   "metadata": {},
   "outputs": [],
   "source": [
    "# open browser window\n",
    "executable_path = {'executable_path': '/usr/local/bin/chromedriver'}\n",
    "browser = Browser('chrome', **executable_path, headless=False)"
   ]
  },
  {
   "cell_type": "code",
   "execution_count": 109,
   "metadata": {},
   "outputs": [],
   "source": [
    "# define website and open in browser window\n",
    "url = 'https://www.jpl.nasa.gov/spaceimages/?search=&category=Mars'\n",
    "browser.visit(url)"
   ]
  },
  {
   "cell_type": "code",
   "execution_count": 110,
   "metadata": {},
   "outputs": [
    {
     "output_type": "execute_result",
     "data": {
      "text/plain": [
       "<pymongo.results.InsertOneResult at 0x7fdfba2062d0>"
      ]
     },
     "metadata": {},
     "execution_count": 110
    }
   ],
   "source": [
    "# get to the page with the image url\n",
    "browser.links.find_by_partial_text('FULL IMAGE').first.click()\n",
    "browser.links.find_by_partial_text('more info').first.click()\n",
    "html = browser.html\n",
    "soup = bs(html, 'html.parser')\n",
    "# Identify and return the images\n",
    "results = soup.select_one('figure.lede a img').get('src')\n",
    "\n",
    "# Close the browser after scraping\n",
    "browser.quit()\n",
    "\n",
    "# store the image url\n",
    "image_url = f'https://www.jpl.nasa.gov{results}'\n",
    "\n",
    "# Url to be inserted as a MongoDB document\n",
    "post = {\n",
    "    'feature_image_url': image_url\n",
    "}\n",
    "images.insert_one(post)"
   ]
  },
  {
   "source": [
    "# Mars Facts"
   ],
   "cell_type": "markdown",
   "metadata": {}
  },
  {
   "cell_type": "code",
   "execution_count": 4,
   "metadata": {},
   "outputs": [
    {
     "output_type": "execute_result",
     "data": {
      "text/plain": [
       "[                      0                              1\n",
       " 0  Equatorial Diameter:                       6,792 km\n",
       " 1       Polar Diameter:                       6,752 km\n",
       " 2                 Mass:  6.39 × 10^23 kg (0.11 Earths)\n",
       " 3                Moons:            2 (Phobos & Deimos)\n",
       " 4       Orbit Distance:       227,943,824 km (1.38 AU)\n",
       " 5         Orbit Period:           687 days (1.9 years)\n",
       " 6  Surface Temperature:                   -87 to -5 °C\n",
       " 7         First Record:              2nd millennium BC\n",
       " 8          Recorded By:           Egyptian astronomers,\n",
       "   Mars - Earth Comparison             Mars            Earth\n",
       " 0               Diameter:         6,779 km        12,742 km\n",
       " 1                   Mass:  6.39 × 10^23 kg  5.97 × 10^24 kg\n",
       " 2                  Moons:                2                1\n",
       " 3      Distance from Sun:   227,943,824 km   149,598,262 km\n",
       " 4         Length of Year:   687 Earth days      365.24 days\n",
       " 5            Temperature:     -87 to -5 °C      -88 to 58°C,\n",
       "                       0                              1\n",
       " 0  Equatorial Diameter:                       6,792 km\n",
       " 1       Polar Diameter:                       6,752 km\n",
       " 2                 Mass:  6.39 × 10^23 kg (0.11 Earths)\n",
       " 3                Moons:            2 (Phobos & Deimos)\n",
       " 4       Orbit Distance:       227,943,824 km (1.38 AU)\n",
       " 5         Orbit Period:           687 days (1.9 years)\n",
       " 6  Surface Temperature:                   -87 to -5 °C\n",
       " 7         First Record:              2nd millennium BC\n",
       " 8          Recorded By:           Egyptian astronomers]"
      ]
     },
     "metadata": {},
     "execution_count": 4
    }
   ],
   "source": [
    "url = 'https://space-facts.com/mars/'\n",
    "\n",
    "# Use Panda's `read_html` to parse the url\n",
    "tables = pd.read_html(url)\n",
    "tables"
   ]
  },
  {
   "cell_type": "code",
   "execution_count": 5,
   "metadata": {},
   "outputs": [
    {
     "output_type": "execute_result",
     "data": {
      "text/plain": [
       "                      0                              1\n",
       "0  Equatorial Diameter:                       6,792 km\n",
       "1       Polar Diameter:                       6,752 km\n",
       "2                 Mass:  6.39 × 10^23 kg (0.11 Earths)\n",
       "3                Moons:            2 (Phobos & Deimos)\n",
       "4       Orbit Distance:       227,943,824 km (1.38 AU)\n",
       "5         Orbit Period:           687 days (1.9 years)\n",
       "6  Surface Temperature:                   -87 to -5 °C\n",
       "7         First Record:              2nd millennium BC\n",
       "8          Recorded By:           Egyptian astronomers"
      ],
      "text/html": "<div>\n<style scoped>\n    .dataframe tbody tr th:only-of-type {\n        vertical-align: middle;\n    }\n\n    .dataframe tbody tr th {\n        vertical-align: top;\n    }\n\n    .dataframe thead th {\n        text-align: right;\n    }\n</style>\n<table border=\"1\" class=\"dataframe\">\n  <thead>\n    <tr style=\"text-align: right;\">\n      <th></th>\n      <th>0</th>\n      <th>1</th>\n    </tr>\n  </thead>\n  <tbody>\n    <tr>\n      <th>0</th>\n      <td>Equatorial Diameter:</td>\n      <td>6,792 km</td>\n    </tr>\n    <tr>\n      <th>1</th>\n      <td>Polar Diameter:</td>\n      <td>6,752 km</td>\n    </tr>\n    <tr>\n      <th>2</th>\n      <td>Mass:</td>\n      <td>6.39 × 10^23 kg (0.11 Earths)</td>\n    </tr>\n    <tr>\n      <th>3</th>\n      <td>Moons:</td>\n      <td>2 (Phobos &amp; Deimos)</td>\n    </tr>\n    <tr>\n      <th>4</th>\n      <td>Orbit Distance:</td>\n      <td>227,943,824 km (1.38 AU)</td>\n    </tr>\n    <tr>\n      <th>5</th>\n      <td>Orbit Period:</td>\n      <td>687 days (1.9 years)</td>\n    </tr>\n    <tr>\n      <th>6</th>\n      <td>Surface Temperature:</td>\n      <td>-87 to -5 °C</td>\n    </tr>\n    <tr>\n      <th>7</th>\n      <td>First Record:</td>\n      <td>2nd millennium BC</td>\n    </tr>\n    <tr>\n      <th>8</th>\n      <td>Recorded By:</td>\n      <td>Egyptian astronomers</td>\n    </tr>\n  </tbody>\n</table>\n</div>"
     },
     "metadata": {},
     "execution_count": 5
    }
   ],
   "source": [
    "# extract the table containing facts about Mars\n",
    "mars_fact_df = tables[0]\n",
    "mars_fact_df"
   ]
  },
  {
   "cell_type": "code",
   "execution_count": 6,
   "metadata": {},
   "outputs": [
    {
     "output_type": "execute_result",
     "data": {
      "text/plain": [
       "                                        Mars_planet\n",
       "Description                                        \n",
       "Equatorial Diameter:                       6,792 km\n",
       "Polar Diameter:                            6,752 km\n",
       "Mass:                 6.39 × 10^23 kg (0.11 Earths)\n",
       "Moons:                          2 (Phobos & Deimos)\n",
       "Orbit Distance:            227,943,824 km (1.38 AU)\n",
       "Orbit Period:                  687 days (1.9 years)\n",
       "Surface Temperature:                   -87 to -5 °C\n",
       "First Record:                     2nd millennium BC\n",
       "Recorded By:                   Egyptian astronomers"
      ],
      "text/html": "<div>\n<style scoped>\n    .dataframe tbody tr th:only-of-type {\n        vertical-align: middle;\n    }\n\n    .dataframe tbody tr th {\n        vertical-align: top;\n    }\n\n    .dataframe thead th {\n        text-align: right;\n    }\n</style>\n<table border=\"1\" class=\"dataframe\">\n  <thead>\n    <tr style=\"text-align: right;\">\n      <th></th>\n      <th>Mars_planet</th>\n    </tr>\n    <tr>\n      <th>Description</th>\n      <th></th>\n    </tr>\n  </thead>\n  <tbody>\n    <tr>\n      <th>Equatorial Diameter:</th>\n      <td>6,792 km</td>\n    </tr>\n    <tr>\n      <th>Polar Diameter:</th>\n      <td>6,752 km</td>\n    </tr>\n    <tr>\n      <th>Mass:</th>\n      <td>6.39 × 10^23 kg (0.11 Earths)</td>\n    </tr>\n    <tr>\n      <th>Moons:</th>\n      <td>2 (Phobos &amp; Deimos)</td>\n    </tr>\n    <tr>\n      <th>Orbit Distance:</th>\n      <td>227,943,824 km (1.38 AU)</td>\n    </tr>\n    <tr>\n      <th>Orbit Period:</th>\n      <td>687 days (1.9 years)</td>\n    </tr>\n    <tr>\n      <th>Surface Temperature:</th>\n      <td>-87 to -5 °C</td>\n    </tr>\n    <tr>\n      <th>First Record:</th>\n      <td>2nd millennium BC</td>\n    </tr>\n    <tr>\n      <th>Recorded By:</th>\n      <td>Egyptian astronomers</td>\n    </tr>\n  </tbody>\n</table>\n</div>"
     },
     "metadata": {},
     "execution_count": 6
    }
   ],
   "source": [
    "# rename the columns\n",
    "mars_fact_df = mars_fact_df.rename(columns={0: 'Description', 1: 'Mars_planet'})\n",
    "mars_fact_df = mars_fact_df.set_index('Description')\n",
    "mars_fact_df"
   ]
  },
  {
   "cell_type": "code",
   "execution_count": 8,
   "metadata": {},
   "outputs": [],
   "source": [
    "# export table to HTML format\n",
    "Mars_table = mars_fact_df.to_html('static/Mars_table.html')\n",
    "Mars_table"
   ]
  },
  {
   "source": [
    "# Mars Hemispheres"
   ],
   "cell_type": "markdown",
   "metadata": {}
  },
  {
   "source": [
    "## Cerberus"
   ],
   "cell_type": "markdown",
   "metadata": {}
  },
  {
   "cell_type": "code",
   "execution_count": 142,
   "metadata": {},
   "outputs": [],
   "source": [
    "# open browser window\n",
    "executable_path = {'executable_path': '/usr/local/bin/chromedriver'}\n",
    "browser = Browser('chrome', **executable_path, headless=False)"
   ]
  },
  {
   "cell_type": "code",
   "execution_count": 143,
   "metadata": {},
   "outputs": [],
   "source": [
    "# define website and open in browser window\n",
    "url = 'https://astrogeology.usgs.gov/search/results?q=hemisphere+enhanced&k1=target&v1=Mars'\n",
    "browser.visit(url)"
   ]
  },
  {
   "cell_type": "code",
   "execution_count": 144,
   "metadata": {},
   "outputs": [
    {
     "output_type": "stream",
     "name": "stdout",
     "text": [
      "/cache/images/f5e372a36edfa389625da6d0cc25d905_cerberus_enhanced.tif_full.jpg\n"
     ]
    },
    {
     "output_type": "execute_result",
     "data": {
      "text/plain": [
       "<pymongo.results.InsertOneResult at 0x7fdfb928ffa0>"
      ]
     },
     "metadata": {},
     "execution_count": 144
    }
   ],
   "source": [
    "\n",
    "# get to the page with the image url\n",
    "# another option:\n",
    "# browser.find_by_css('h3')[0].click()\n",
    "browser.links.find_by_partial_text('Cerberus Hemisphere').first.click()\n",
    "\n",
    "html = browser.html\n",
    "soup = bs(html, 'html.parser')\n",
    "# Identify and return the images\n",
    "results = soup.select_one('img.wide-image').get('src')\n",
    "print(results)\n",
    "\n",
    "# Close the browser after scraping\n",
    "browser.quit()\n",
    "\n",
    "# store the image url\n",
    "image_url = f'https://astrogeology.usgs.gov{results}'\n",
    "\n",
    "# Url to be inserted as a MongoDB document\n",
    "post = {\n",
    "    'cerberus_image_url': image_url\n",
    "}\n",
    "images.insert_one(post)\n",
    "\n"
   ]
  },
  {
   "source": [
    "## Schiaparelli"
   ],
   "cell_type": "markdown",
   "metadata": {}
  },
  {
   "cell_type": "code",
   "execution_count": 145,
   "metadata": {},
   "outputs": [],
   "source": [
    "# open browser window\n",
    "executable_path = {'executable_path': '/usr/local/bin/chromedriver'}\n",
    "browser = Browser('chrome', **executable_path, headless=False)"
   ]
  },
  {
   "cell_type": "code",
   "execution_count": 146,
   "metadata": {},
   "outputs": [],
   "source": [
    "# define website and open in browser window\n",
    "url = 'https://astrogeology.usgs.gov/search/results?q=hemisphere+enhanced&k1=target&v1=Mars'\n",
    "browser.visit(url)"
   ]
  },
  {
   "cell_type": "code",
   "execution_count": 147,
   "metadata": {},
   "outputs": [
    {
     "output_type": "stream",
     "name": "stdout",
     "text": [
      "/cache/images/3778f7b43bbbc89d6e3cfabb3613ba93_schiaparelli_enhanced.tif_full.jpg\n"
     ]
    },
    {
     "output_type": "execute_result",
     "data": {
      "text/plain": [
       "<pymongo.results.InsertOneResult at 0x7fdfe4e2f5f0>"
      ]
     },
     "metadata": {},
     "execution_count": 147
    }
   ],
   "source": [
    "# get to the page with the image url\n",
    "browser.links.find_by_partial_text('Schiaparelli Hemisphere').first.click()\n",
    "\n",
    "html = browser.html\n",
    "soup = bs(html, 'html.parser')\n",
    "# Identify and return the images\n",
    "results = soup.select_one('img.wide-image').get('src')\n",
    "print(results)\n",
    "\n",
    "# Close the browser after scraping\n",
    "browser.quit()\n",
    "\n",
    "# store the image url\n",
    "image_url = f'https://astrogeology.usgs.gov{results}'\n",
    "\n",
    "# Url to be inserted as a MongoDB document\n",
    "post = {\n",
    "    'schiaparelli_image_url': image_url\n",
    "}\n",
    "images.insert_one(post)\n"
   ]
  },
  {
   "source": [
    "## Syrtis Major"
   ],
   "cell_type": "markdown",
   "metadata": {}
  },
  {
   "cell_type": "code",
   "execution_count": 148,
   "metadata": {},
   "outputs": [],
   "source": [
    "# open browser window\n",
    "executable_path = {'executable_path': '/usr/local/bin/chromedriver'}\n",
    "browser = Browser('chrome', **executable_path, headless=False)"
   ]
  },
  {
   "cell_type": "code",
   "execution_count": 149,
   "metadata": {},
   "outputs": [],
   "source": [
    "# define website and open in browser window\n",
    "url = 'https://astrogeology.usgs.gov/search/results?q=hemisphere+enhanced&k1=target&v1=Mars'\n",
    "browser.visit(url)"
   ]
  },
  {
   "cell_type": "code",
   "execution_count": 150,
   "metadata": {},
   "outputs": [
    {
     "output_type": "stream",
     "name": "stdout",
     "text": [
      "/cache/images/555e6403a6ddd7ba16ddb0e471cadcf7_syrtis_major_enhanced.tif_full.jpg\n"
     ]
    },
    {
     "output_type": "execute_result",
     "data": {
      "text/plain": [
       "<pymongo.results.InsertOneResult at 0x7fdfb92a1780>"
      ]
     },
     "metadata": {},
     "execution_count": 150
    }
   ],
   "source": [
    "# get to the page with the image url\n",
    "browser.links.find_by_partial_text('Syrtis Major Hemisphere').first.click()\n",
    "\n",
    "html = browser.html\n",
    "soup = bs(html, 'html.parser')\n",
    "# Identify and return the images\n",
    "results = soup.select_one('img.wide-image').get('src')\n",
    "print(results)\n",
    "\n",
    "# Close the browser after scraping\n",
    "browser.quit()\n",
    "\n",
    "# store the image url\n",
    "image_url = f'https://astrogeology.usgs.gov{results}'\n",
    "\n",
    "# Url to be inserted as a MongoDB document\n",
    "post = {\n",
    "    'syrtis_major_image_url': image_url\n",
    "}\n",
    "images.insert_one(post)"
   ]
  },
  {
   "source": [
    "## Valles Marineris"
   ],
   "cell_type": "markdown",
   "metadata": {}
  },
  {
   "cell_type": "code",
   "execution_count": 151,
   "metadata": {},
   "outputs": [],
   "source": [
    "# open browser window\n",
    "executable_path = {'executable_path': '/usr/local/bin/chromedriver'}\n",
    "browser = Browser('chrome', **executable_path, headless=False)"
   ]
  },
  {
   "cell_type": "code",
   "execution_count": 152,
   "metadata": {},
   "outputs": [],
   "source": [
    "# define website and open in browser window\n",
    "url = 'https://astrogeology.usgs.gov/search/results?q=hemisphere+enhanced&k1=target&v1=Mars'\n",
    "browser.visit(url)"
   ]
  },
  {
   "cell_type": "code",
   "execution_count": 153,
   "metadata": {},
   "outputs": [
    {
     "output_type": "stream",
     "name": "stdout",
     "text": [
      "/cache/images/b3c7c6c9138f57b4756be9b9c43e3a48_valles_marineris_enhanced.tif_full.jpg\n"
     ]
    },
    {
     "output_type": "execute_result",
     "data": {
      "text/plain": [
       "<pymongo.results.InsertOneResult at 0x7fdfc1be5230>"
      ]
     },
     "metadata": {},
     "execution_count": 153
    }
   ],
   "source": [
    "# get to the page with the image url\n",
    "browser.links.find_by_partial_text('Valles Marineris Hemisphere').first.click()\n",
    "\n",
    "html = browser.html\n",
    "soup = bs(html, 'html.parser')\n",
    "# Identify and return the images\n",
    "results = soup.select_one('img.wide-image').get('src')\n",
    "print(results)\n",
    "\n",
    "# Close the browser after scraping\n",
    "browser.quit()\n",
    "\n",
    "# store the image url\n",
    "image_url = f'https://astrogeology.usgs.gov{results}'\n",
    "\n",
    "# Url to be inserted as a MongoDB document\n",
    "post = {\n",
    "    'valles_marineris_image_url': image_url\n",
    "}\n",
    "images.insert_one(post)"
   ]
  },
  {
   "cell_type": "code",
   "execution_count": null,
   "metadata": {},
   "outputs": [],
   "source": []
  }
 ]
}